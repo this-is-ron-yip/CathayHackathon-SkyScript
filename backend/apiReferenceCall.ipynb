{
 "cells": [
  {
   "cell_type": "code",
   "execution_count": 1,
   "metadata": {},
   "outputs": [],
   "source": [
    "import requests"
   ]
  },
  {
   "cell_type": "code",
   "execution_count": 25,
   "metadata": {},
   "outputs": [
    {
     "name": "stdout",
     "output_type": "stream",
     "text": [
      "END CHAT; data: {'destination': 'Hong Kong', 'interest': 'hiking', 'length': 3}\n"
     ]
    }
   ],
   "source": [
    "url = \"http://127.0.0.1:5000/chat\" \n",
    "\n",
    "data = [\n",
    "    (\"human\", \"I want to go to Hong Kong\"), \n",
    "    (\"ai\", \"Please provide information on length of stay, interest\"),\n",
    "    (\"human\", \"I will be staying for three days\"),\n",
    "    (\"ai\", \"Please provide information on interest\"),\n",
    "    (\"human\", \"I like to hike\")\n",
    "    ]\n",
    "\n",
    "response = requests.post(url, json=data)\n",
    "\n",
    "try:\n",
    "    print(f\"END CHAT; data: {response.json()}\")\n",
    "except:\n",
    "    print(response.text)"
   ]
  },
  {
   "cell_type": "code",
   "execution_count": null,
   "metadata": {},
   "outputs": [
    {
     "data": {
      "text/plain": [
       "[[{'business_status': 'OPERATIONAL',\n",
       "   'formatted_address': '15 Bligh St, Sydney NSW 2000, Australia',\n",
       "   'geometry': {'location': {'lat': -33.8651343, 'lng': 151.2104596},\n",
       "    'viewport': {'northeast': {'lat': -33.86383727010728,\n",
       "      'lng': 151.2118845298927},\n",
       "     'southwest': {'lat': -33.86653692989272, 'lng': 151.2091848701073}}},\n",
       "   'icon': 'https://maps.gstatic.com/mapfiles/place_api/icons/v1/png_71/restaurant-71.png',\n",
       "   'icon_background_color': '#FF9E67',\n",
       "   'icon_mask_base_uri': 'https://maps.gstatic.com/mapfiles/place_api/icons/v2/restaurant_pinlet',\n",
       "   'name': 'Restaurant Hubert',\n",
       "   'opening_hours': {'open_now': True},\n",
       "   'photos': [{'height': 683,\n",
       "     'html_attributions': ['<a href=\"https://maps.google.com/maps/contrib/113719639442868633401\">Ashley Hughes</a>'],\n",
       "     'photo_reference': 'AdCG2DOy7KPOE7BNu6boMu40_EnOpHPFeGEopdVxJKhTxuucUQ500DszuoBe3jnq_P3wOG44-cmtyyGIx0M7Q3XILGF9JMIR8S0vAmmnahKeVg0YM4NEsSGZ5iqKRP7B2Lk3fidG7q3tQCCkuvB2eFLZkUlsBWIEs0J0gprl0oyoVKLxdTK3',\n",
       "     'width': 1024}],\n",
       "   'place_id': 'ChIJF5-RdGquEmsR5rN_H74uSqQ',\n",
       "   'plus_code': {'compound_code': '46M6+W5 Sydney, New South Wales, Australia',\n",
       "    'global_code': '4RRH46M6+W5'},\n",
       "   'price_level': 3,\n",
       "   'rating': 4.6,\n",
       "   'reference': 'ChIJF5-RdGquEmsR5rN_H74uSqQ',\n",
       "   'types': ['restaurant', 'point_of_interest', 'food', 'establishment'],\n",
       "   'user_ratings_total': 4096},\n",
       "  {'business_status': 'OPERATIONAL',\n",
       "   'formatted_address': '1 Macquarie St, Sydney NSW 2000, Australia',\n",
       "   'geometry': {'location': {'lat': -33.8592041, 'lng': 151.2132635},\n",
       "    'viewport': {'northeast': {'lat': -33.85786707010728,\n",
       "      'lng': 151.2147093298927},\n",
       "     'southwest': {'lat': -33.86056672989272, 'lng': 151.2120096701072}}},\n",
       "   'icon': 'https://maps.gstatic.com/mapfiles/place_api/icons/v1/png_71/restaurant-71.png',\n",
       "   'icon_background_color': '#FF9E67',\n",
       "   'icon_mask_base_uri': 'https://maps.gstatic.com/mapfiles/place_api/icons/v2/restaurant_pinlet',\n",
       "   'name': 'Aria Restaurant Sydney',\n",
       "   'opening_hours': {'open_now': True},\n",
       "   'photos': [{'height': 2756,\n",
       "     'html_attributions': ['<a href=\"https://maps.google.com/maps/contrib/104093802548855304589\">A Google User</a>'],\n",
       "     'photo_reference': 'AdCG2DMkTp97oAathHqWkGEa2aSP1BS5JPTLWL2Shka3KvjL74M_VfFzojYcvWnm9DN0bi2OVM-qwumUCWwfpV8YGAUydJDxJiWh9LYFchL_QoZ2VLghfwWiq9vGMyMVA581R_V08ufclxhZxISwlgWrVKKTMYslMQ4_65qBZLR3zGUcjb_R',\n",
       "     'width': 4134}],\n",
       "   'place_id': 'ChIJdxxU1WeuEmsR11c4fswX-Io',\n",
       "   'plus_code': {'compound_code': '46R7+88 Sydney, New South Wales, Australia',\n",
       "    'global_code': '4RRH46R7+88'},\n",
       "   'price_level': 4,\n",
       "   'rating': 4.5,\n",
       "   'reference': 'ChIJdxxU1WeuEmsR11c4fswX-Io',\n",
       "   'types': ['restaurant', 'point_of_interest', 'food', 'establishment'],\n",
       "   'user_ratings_total': 2077}],\n",
       " [{'business_status': 'OPERATIONAL',\n",
       "   'formatted_address': '15 Bligh St, Sydney NSW 2000, Australia',\n",
       "   'geometry': {'location': {'lat': -33.8651343, 'lng': 151.2104596},\n",
       "    'viewport': {'northeast': {'lat': -33.86383727010728,\n",
       "      'lng': 151.2118845298927},\n",
       "     'southwest': {'lat': -33.86653692989272, 'lng': 151.2091848701073}}},\n",
       "   'icon': 'https://maps.gstatic.com/mapfiles/place_api/icons/v1/png_71/restaurant-71.png',\n",
       "   'icon_background_color': '#FF9E67',\n",
       "   'icon_mask_base_uri': 'https://maps.gstatic.com/mapfiles/place_api/icons/v2/restaurant_pinlet',\n",
       "   'name': 'Restaurant Hubert',\n",
       "   'opening_hours': {'open_now': True},\n",
       "   'photos': [{'height': 683,\n",
       "     'html_attributions': ['<a href=\"https://maps.google.com/maps/contrib/113719639442868633401\">Ashley Hughes</a>'],\n",
       "     'photo_reference': 'AdCG2DOy7KPOE7BNu6boMu40_EnOpHPFeGEopdVxJKhTxuucUQ500DszuoBe3jnq_P3wOG44-cmtyyGIx0M7Q3XILGF9JMIR8S0vAmmnahKeVg0YM4NEsSGZ5iqKRP7B2Lk3fidG7q3tQCCkuvB2eFLZkUlsBWIEs0J0gprl0oyoVKLxdTK3',\n",
       "     'width': 1024}],\n",
       "   'place_id': 'ChIJF5-RdGquEmsR5rN_H74uSqQ',\n",
       "   'plus_code': {'compound_code': '46M6+W5 Sydney, New South Wales, Australia',\n",
       "    'global_code': '4RRH46M6+W5'},\n",
       "   'price_level': 3,\n",
       "   'rating': 4.6,\n",
       "   'reference': 'ChIJF5-RdGquEmsR5rN_H74uSqQ',\n",
       "   'types': ['restaurant', 'point_of_interest', 'food', 'establishment'],\n",
       "   'user_ratings_total': 4096},\n",
       "  {'business_status': 'OPERATIONAL',\n",
       "   'formatted_address': '1 Macquarie St, Sydney NSW 2000, Australia',\n",
       "   'geometry': {'location': {'lat': -33.8592041, 'lng': 151.2132635},\n",
       "    'viewport': {'northeast': {'lat': -33.85786707010728,\n",
       "      'lng': 151.2147093298927},\n",
       "     'southwest': {'lat': -33.86056672989272, 'lng': 151.2120096701072}}},\n",
       "   'icon': 'https://maps.gstatic.com/mapfiles/place_api/icons/v1/png_71/restaurant-71.png',\n",
       "   'icon_background_color': '#FF9E67',\n",
       "   'icon_mask_base_uri': 'https://maps.gstatic.com/mapfiles/place_api/icons/v2/restaurant_pinlet',\n",
       "   'name': 'Aria Restaurant Sydney',\n",
       "   'opening_hours': {'open_now': True},\n",
       "   'photos': [{'height': 2756,\n",
       "     'html_attributions': ['<a href=\"https://maps.google.com/maps/contrib/104093802548855304589\">A Google User</a>'],\n",
       "     'photo_reference': 'AdCG2DMkTp97oAathHqWkGEa2aSP1BS5JPTLWL2Shka3KvjL74M_VfFzojYcvWnm9DN0bi2OVM-qwumUCWwfpV8YGAUydJDxJiWh9LYFchL_QoZ2VLghfwWiq9vGMyMVA581R_V08ufclxhZxISwlgWrVKKTMYslMQ4_65qBZLR3zGUcjb_R',\n",
       "     'width': 4134}],\n",
       "   'place_id': 'ChIJdxxU1WeuEmsR11c4fswX-Io',\n",
       "   'plus_code': {'compound_code': '46R7+88 Sydney, New South Wales, Australia',\n",
       "    'global_code': '4RRH46R7+88'},\n",
       "   'price_level': 4,\n",
       "   'rating': 4.5,\n",
       "   'reference': 'ChIJdxxU1WeuEmsR11c4fswX-Io',\n",
       "   'types': ['restaurant', 'point_of_interest', 'food', 'establishment'],\n",
       "   'user_ratings_total': 2077}]]"
      ]
     },
     "execution_count": 3,
     "metadata": {},
     "output_type": "execute_result"
    }
   ],
   "source": [
    "# Define the URL for the API endpoint\n",
    "url = \"http://127.0.0.1:5000/route\"  # Adjust the URL if needed\n",
    "\n",
    "data = {'destination': 'Hong Kong', 'length': 3, 'interest': 'hiking'}\n",
    "# Make the POST request\n",
    "response = requests.post(url, data=data)\n",
    "\n",
    "response.json()"
   ]
  }
 ],
 "metadata": {
  "kernelspec": {
   "display_name": ".venv",
   "language": "python",
   "name": "python3"
  },
  "language_info": {
   "codemirror_mode": {
    "name": "ipython",
    "version": 3
   },
   "file_extension": ".py",
   "mimetype": "text/x-python",
   "name": "python",
   "nbconvert_exporter": "python",
   "pygments_lexer": "ipython3",
   "version": "3.12.4"
  }
 },
 "nbformat": 4,
 "nbformat_minor": 2
}
